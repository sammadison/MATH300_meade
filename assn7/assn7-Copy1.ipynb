{
 "cells": [
  {
   "cell_type": "code",
   "execution_count": 43,
   "metadata": {
    "collapsed": true
   },
   "outputs": [],
   "source": [
    "import sympy as symp "
   ]
  },
  {
   "cell_type": "code",
   "execution_count": 44,
   "metadata": {
    "collapsed": true
   },
   "outputs": [],
   "source": [
    "import numpy as np"
   ]
  },
  {
   "cell_type": "code",
   "execution_count": 45,
   "metadata": {
    "collapsed": true
   },
   "outputs": [],
   "source": [
    "import matplotlib.pyplot as plt"
   ]
  },
  {
   "cell_type": "markdown",
   "metadata": {},
   "source": [
    "First I used sympy to assign x as a variable and created a function that i named expr. I then used sympy again to integrate my function expr from 1 to 7. ans.evalf() produces a finite number rather than an expression. "
   ]
  },
  {
   "cell_type": "code",
   "execution_count": 47,
   "metadata": {},
   "outputs": [
    {
     "data": {
      "text/plain": [
       "84.4163716059116"
      ]
     },
     "execution_count": 47,
     "metadata": {},
     "output_type": "execute_result"
    }
   ],
   "source": [
    "x = symp.symbols('x')\n",
    "expr = (x**3)*symp.sin(4*x)\n",
    "ans = symp.integrate(expr, (x, 1, 7))\n",
    "ans = ans.evalf()\n",
    "ans"
   ]
  },
  {
   "cell_type": "markdown",
   "metadata": {},
   "source": [
    "I created a function mcintegrate that takes 4 inputs:f,n,a,b that returns the numerical integration of the summation given in the assignment. I added the np.random.seed so that we can have real random numbers but they are consistent for each iteration. "
   ]
  },
  {
   "cell_type": "code",
   "execution_count": 70,
   "metadata": {
    "collapsed": true
   },
   "outputs": [],
   "source": [
    "def mcintegrate(f,n,a=1,b=7):\n",
    "    np.random.seed(1)\n",
    "    summ=0\n",
    "    diff = b - a\n",
    "    for r in np.random.rand(n):\n",
    "        summ+=f(r*diff+a)\n",
    "    return (diff/n)*summ"
   ]
  },
  {
   "cell_type": "code",
   "execution_count": 75,
   "metadata": {
    "collapsed": true
   },
   "outputs": [],
   "source": [
    "f=symp.lambdify(x,expr)\n",
    "n=100000\n",
    "err_seq=[]\n",
    "for i in range(1000,n+1,1000):\n",
    "    err=np.abs(ans-mcintegrate(f,i))\n",
    "    err_seq.append(err)"
   ]
  },
  {
   "cell_type": "code",
   "execution_count": 83,
   "metadata": {},
   "outputs": [
    {
     "data": {
      "image/png": "[encoded data removed]",
      "text/plain": [
       "<matplotlib.figure.Figure at 0x1dd7f6f1550>"
      ]
     },
     "metadata": {},
     "output_type": "display_data"
    }
   ],
   "source": [
    "xpts=[x for x in range(1,n+1,1000)]\n",
    "plt.plot(xpts, err_seq, 'r-')\n",
    "plt.ylabel('Error')\n",
    "plt.xlabel('Number of Samples')\n",
    "plt.title('Monte Carlo')\n",
    "plt.show()"
   ]
  },
  {
   "cell_type": "code",
   "execution_count": null,
   "metadata": {
    "collapsed": true
   },
   "outputs": [],
   "source": []
  }
 ],
 "metadata": {
  "kernelspec": {
   "display_name": "Python 3",
   "language": "python",
   "name": "python3"
  },
  "language_info": {
   "codemirror_mode": {
    "name": "ipython",
    "version": 3
   },
   "file_extension": ".py",
   "mimetype": "text/x-python",
   "name": "python",
   "nbconvert_exporter": "python",
   "pygments_lexer": "ipython3",
   "version": "3.6.3"
  }
 },
 "nbformat": 4,
 "nbformat_minor": 2
}
